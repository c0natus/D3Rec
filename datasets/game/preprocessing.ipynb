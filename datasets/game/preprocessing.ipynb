{
 "cells": [
  {
   "cell_type": "markdown",
   "metadata": {},
   "source": [
    "https://cseweb.ucsd.edu/~jmcauley/datasets.html#steam_data"
   ]
  },
  {
   "cell_type": "code",
   "execution_count": 1,
   "metadata": {},
   "outputs": [],
   "source": [
    "import os\n",
    "from pathlib import Path\n",
    "import ast\n",
    "\n",
    "import pandas as pd\n",
    "from tqdm import tqdm\n",
    "import json\n",
    "from datetime import datetime"
   ]
  },
  {
   "cell_type": "code",
   "execution_count": 2,
   "metadata": {},
   "outputs": [],
   "source": [
    "cur_path = Path(os.getcwd())\n",
    "file_game = cur_path / Path('steam_new.json')\n",
    "file_meta = cur_path / Path('steam_games.json')"
   ]
  },
  {
   "cell_type": "code",
   "execution_count": 3,
   "metadata": {},
   "outputs": [],
   "source": [
    "def convert_unixtime(date_str):\n",
    "    date_obj = datetime.strptime(date_str, \"%Y-%m-%d\")\n",
    "    unix_timestamp = int(date_obj.timestamp())\n",
    "    return unix_timestamp\n",
    "\n",
    "data = {\n",
    "    'user': [],\n",
    "    'item': [],\n",
    "    'rating': [],\n",
    "    'timestamp': [],\n",
    "}\n",
    "\n",
    "with open(file_game, 'r') as f:\n",
    "    while True:\n",
    "        line = f.readline()\n",
    "        if not line: break\n",
    "        game = ast.literal_eval(line)\n",
    "\n",
    "        data['user'].append(game['username'])\n",
    "        data['item'].append(game['product_id'])\n",
    "        data['rating'].append(5)\n",
    "        data['timestamp'].append(convert_unixtime(game['date']))\n",
    "\n",
    "df_game = pd.DataFrame(data)\n",
    "df_game.to_csv('bhv.csv', header=None, index=False)"
   ]
  },
  {
   "cell_type": "code",
   "execution_count": 5,
   "metadata": {},
   "outputs": [
    {
     "name": "stdout",
     "output_type": "stream",
     "text": [
      "{'publisher': 'Warner Bros. Interactive Entertainment, Feral Interactive (Mac)', 'genres': ['Action', 'Adventure'], 'app_name': 'Batman: Arkham City - Game of the Year Edition', 'sentiment': 'Overwhelmingly Positive', 'title': 'Batman: Arkham City - Game of the Year Edition', 'url': 'http://store.steampowered.com/app/200260', 'release_date': '2012-09-07', 'tags': ['Action', 'Open World', 'Batman', 'Adventure', 'Stealth', 'Third Person', 'Superhero', 'Singleplayer', \"Beat 'em up\", 'Comic Book', 'Detective', 'Fighting', 'Atmospheric', 'Story Rich', 'Action-Adventure', 'Cinematic', 'Controller', '3D Vision', 'Metroidvania', 'Sandbox'], 'metascore': 91, 'price': 19.99, 'early_access': False, 'specs': ['Single-player', 'Steam Achievements', 'Steam Trading Cards', 'Partial Controller Support', 'Steam Cloud'], 'developer': 'Rocksteady Studios,Feral Interactive (Mac)'}\n"
     ]
    }
   ],
   "source": [
    "meta_data = {\n",
    "    'item': [],\n",
    "    'category': [],\n",
    "}\n",
    "\n",
    "with open(file_meta, 'r') as f:\n",
    "    while True:\n",
    "        line = f.readline()\n",
    "        if not line: break\n",
    "        meta = ast.literal_eval(line)\n",
    "\n",
    "        try:\n",
    "            if 'genres' in meta.keys() and meta['genres']:\n",
    "                meta_data['item'].append(meta['id'])\n",
    "                meta_data['category'].append(meta['genres'])\n",
    "            elif 'tags' in meta.keys() and meta['tags']:\n",
    "                meta_data['item'].append(meta['id'])\n",
    "                meta_data['category'].append(meta['tags'])\n",
    "        except:\n",
    "            print(meta) # duplicated\n",
    "        \n",
    "\n",
    "df_meta = pd.DataFrame(meta_data)\n",
    "df_meta = df_meta.drop_duplicates(subset=['item']).reset_index(drop=True)\n",
    "df_meta.to_csv('meta.csv', header=None, index=False)"
   ]
  },
  {
   "cell_type": "code",
   "execution_count": 7,
   "metadata": {},
   "outputs": [],
   "source": [
    "df_game = df_game[df_game['item'].isin(df_meta['item'].unique())]\n",
    "df_merge = pd.merge(df_game, df_meta, on='item', how='left')\n",
    "df_merge.to_csv('data.csv', header=None, index=False)"
   ]
  }
 ],
 "metadata": {
  "kernelspec": {
   "display_name": "diffurec",
   "language": "python",
   "name": "python3"
  },
  "language_info": {
   "codemirror_mode": {
    "name": "ipython",
    "version": 3
   },
   "file_extension": ".py",
   "mimetype": "text/x-python",
   "name": "python",
   "nbconvert_exporter": "python",
   "pygments_lexer": "ipython3",
   "version": "3.8.17"
  }
 },
 "nbformat": 4,
 "nbformat_minor": 2
}
