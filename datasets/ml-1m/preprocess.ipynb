{
 "cells": [
  {
   "cell_type": "markdown",
   "metadata": {},
   "source": [
    "https://grouplens.org/datasets/movielens/1m/"
   ]
  },
  {
   "cell_type": "code",
   "execution_count": null,
   "metadata": {},
   "outputs": [],
   "source": [
    "import pandas as pd\n",
    "\n",
    "df = pd.read_csv('ratings.dat', sep='::', names=['user', 'item', 'rating', 'timestamp'])\n",
    "df_cate = pd.read_csv('movies.dat', sep='::', names=['item', 'title', 'cate'], encoding_errors='ignore')\n",
    "df_cate['cate'] = df_cate['cate'].apply(lambda x: x.split('|'))\n",
    "df_merge = pd.merge(df, df_cate, on='item', how='left')\n",
    "df_merge.drop(labels='title', axis=1, inplace=True)\n",
    "df_merge.to_csv('data.csv', header=None, index=False)"
   ]
  }
 ],
 "metadata": {
  "kernelspec": {
   "display_name": "diffurec",
   "language": "python",
   "name": "python3"
  },
  "language_info": {
   "codemirror_mode": {
    "name": "ipython",
    "version": 3
   },
   "file_extension": ".py",
   "mimetype": "text/x-python",
   "name": "python",
   "nbconvert_exporter": "python",
   "pygments_lexer": "ipython3",
   "version": "3.8.17"
  },
  "orig_nbformat": 4
 },
 "nbformat": 4,
 "nbformat_minor": 2
}
